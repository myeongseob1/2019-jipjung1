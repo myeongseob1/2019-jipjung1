{
 "cells": [
  {
   "cell_type": "code",
   "execution_count": 8,
   "metadata": {},
   "outputs": [
    {
     "name": "stdout",
     "output_type": "stream",
     "text": [
      "[[5.1 3.5]\n",
      " [4.9 3. ]\n",
      " [4.7 3.2]\n",
      " [4.6 3.1]\n",
      " [5.  3.6]\n",
      " [5.4 3.9]\n",
      " [4.6 3.4]\n",
      " [5.  3.4]\n",
      " [4.4 2.9]\n",
      " [4.9 3.1]]\n"
     ]
    },
    {
     "name": "stderr",
     "output_type": "stream",
     "text": [
      "C:\\Users\\kwakms123\\Anaconda3\\lib\\site-packages\\ipykernel_launcher.py:24: RuntimeWarning: Mean of empty slice.\n",
      "C:\\Users\\kwakms123\\Anaconda3\\lib\\site-packages\\numpy\\core\\_methods.py:85: RuntimeWarning: invalid value encountered in double_scalars\n",
      "  ret = ret.dtype.type(ret / rcount)\n"
     ]
    },
    {
     "data": {
      "image/png": "[encoded data removed]",
      "text/plain": [
       "<Figure size 504x504 with 1 Axes>"
      ]
     },
     "metadata": {
      "needs_background": "light"
     },
     "output_type": "display_data"
    }
   ],
   "source": [
    "from sklearn.decomposition import PCA\n",
    "from sklearn.datasets import load_iris\n",
    "import matplotlib.pyplot as plt\n",
    "import seaborn as sns\n",
    "import pandas as pd\n",
    "\n",
    "iris = load_iris()\n",
    "N = 10\n",
    "X = iris.data[:N, :2]\n",
    "\n",
    "pca1 = PCA(n_components=1)\n",
    "X_low = pca1.fit_transform(X)\n",
    "X2 = pca1.inverse_transform(X_low)\n",
    "plt.figure(figsize = (7,7))\n",
    "ax = sns.scatterplot(0,1,data = pd.DataFrame(X),s=100,color=\".2\",marker=\"s\")\n",
    "\n",
    "for i in range(N):\n",
    "    d = 0.03 if X[i,1] > X2[i,1] else -0.04\n",
    "    ax.text(X[i,0]-0.065,X[i,1]+d,\"sample {}\".format(i+1))\n",
    "    plt.plot([X[i,0],X2[i,0]],[X[i,1],X2[i,1]],\"k--\")\n",
    "\n",
    "plt.plot(X2[:,0],X2[:,1],\"o-\",markersize=10)\n",
    "plt.plot(X[:0].mean(),X[:,1].mean(),markersize=10,marker=\"D\")\n",
    "plt.axvline(X[:,0].mean(),c='r')\n",
    "plt.axhline(X[:,1].mean(),c='r')\n",
    "plt.grid(False)\n",
    "plt.xlabel(\"length\")\n",
    "plt.ylabel(\"width\")\n",
    "plt.title(\"Iris ID\")\n",
    "plt.axis(\"equal\")\n",
    "plt.show()"
   ]
  },
  {
   "cell_type": "code",
   "execution_count": 4,
   "metadata": {},
   "outputs": [
    {
     "name": "stdout",
     "output_type": "stream",
     "text": [
      "(494021, 41)\n",
      "(494021, 1)\n",
      "b'neptune.'\n",
      "[LibSVM]model completed, using time 39.30 seconds\n",
      "model information:\n",
      "SVC(C=1, cache_size=200, class_weight=None, coef0=0.0,\n",
      "    decision_function_shape='ovo', degree=3, gamma='auto_deprecated',\n",
      "    kernel='linear', max_iter=-1, probability=False, random_state=93,\n",
      "    shrinking=True, tol=0.001, verbose=True)\n",
      "number of labels: 23\n",
      "cache size: 200\n",
      "expected number of classes under one-vs-one model: 253\n"
     ]
    }
   ],
   "source": [
    "from sklearn import datasets\n",
    "import time\n",
    "from sklearn import svm\n",
    "import pandas as pd\n",
    "from sklearn.model_selection import train_test_split\n",
    "from sklearn.preprocessing import MinMaxScaler\n",
    "from sklearn.metrics import confusion_matrix\n",
    "import itertools\n",
    "import matplotlib.pyplot as plt\n",
    "rseed = 93\n",
    "random_state = 2\n",
    "data_kdd99 = datasets.fetch_kddcup99(subset = None, percent10 = True, random_state = random_state)\n",
    "\n",
    "X = pd.DataFrame(data_kdd99.data)\n",
    "Y = pd.DataFrame(data_kdd99.target)\n",
    "\n",
    "col_names = [\"duration\",\"protocol_type\",\"service\",\"flag\",\"src_bytes\",\"dst_bytes\",\"land\",\"wrong_fragment\",\n",
    "             \"urgent\",\"hot\",\"num_failed_logins\",\"logged_in\",\"num_compromised\",\n",
    "             \"root_shell\",\"su_attempted\",\"num_root\",\"num_file_creations\",\n",
    "             \"num_shells\",\"num_access_files\",\"num_outbound_cmds\",\n",
    "             \"is_hot_login\",\"is_guest_login\",\"count\",\"srv_count\",\"serror_rate\",\n",
    "             \"srv_serror_rate\",\"rerror_rate\",\"srv_rerror_rate\",\"same_srv_rate\",\n",
    "             \"diff_srv_rate\",\"srv_diff_host_rate\",\"dst_host_count\",\"dst_host_srv_count\",\n",
    "             \"dst_host_same_srv_rate\",\"dst_host_diff_srv_rate\",\"dst_host_same_src_port_rate\",\n",
    "             \"dst_host_srv_diff_host_rate\",\"dst_host_serror_rate\",\"dst_host_srv_serror_rate\",\n",
    "             \"dst_host_rerror_rate\",\"dst_host_srv_rerror_rate\",\"target\"]\n",
    "\n",
    "print(X.shape)\n",
    "print(Y.shape)\n",
    "X_train,X_test,y_train,y_test = train_test_split(X,Y,test_size = 0.25, random_state = rseed)\n",
    "\n",
    "X_train_trans = X_train.drop(X_train.columns[[1,2,3]],axis = 1)\n",
    "scaling = MinMaxScaler(feature_range = (-1,1)).fit(X_train_trans)\n",
    "X_train_trans = scaling.transform(X_train_trans)\n",
    "\n",
    "X_test_trans = X_test.drop(X_test.columns[[1,2,3]],axis = 1)\n",
    "X_test_trans = scaling.transform(X_test_trans)\n",
    "\n",
    "train_label = y_train[0].tolist()\n",
    "test_label = y_test[0].tolist()\n",
    "print(train_label[0])\n",
    "\n",
    "time_start = time.time()\n",
    "model1 = svm.SVC(kernel = 'linear',C=1,verbose=True,random_state = rseed,decision_function_shape = 'ovo').fit(X_train_trans,train_label)\n",
    "print(\"model completed, using time %5.2f seconds\"%(time.time()-time_start))\n",
    "\n",
    "print(\"model information:\\n%s\" % model1)\n",
    "print(\"number of labels: %d\" %(model1.classes_.shape[0]))\n",
    "print(\"cache size: %d\" % model1.cache_size)\n",
    "print(\"expected number of classes under one-vs-one model: %d\"%(model1.classes_.shape[0]*(model1.classes_.shape[0]-1)/2))\n",
    "\n",
    "cnf_model1 = confusion_matrix(model1.predict(X_test_trans),test_label)"
   ]
  },
  {
   "cell_type": "code",
   "execution_count": 7,
   "metadata": {},
   "outputs": [
    {
     "name": "stdout",
     "output_type": "stream",
     "text": [
      "before cutting\n",
      "(370515, 41)\n",
      "(123506, 41)\n",
      "after cutting\n",
      "(370515, 38)\n",
      "(123506, 38)\n",
      "after PCA\n",
      "(370515, 20)\n",
      "(123506, 20)\n"
     ]
    }
   ],
   "source": [
    "X_train, X_test, y_train, y_test = train_test_split(X,Y,test_size = 0.25, random_state = rseed)\n",
    "\n",
    "print(\"before cutting\")\n",
    "print(X_train.shape)\n",
    "print(X_test.shape)\n",
    "X_train_trans = X_train.drop(X_train.columns[[1,2,3]],axis=1)\n",
    "X_test_trans = X_test.drop(X_test.columns[[1,2,3]],axis=1)\n",
    "print(\"after cutting\")\n",
    "print(X_train_trans.shape)\n",
    "print(X_test_trans.shape)\n",
    "pcaset = PCA(n_components=20)\n",
    "X_train_trans = pcaset.fit_transform(X_train_trans)\n",
    "X_test_trans = pcaset.fit_transform(X_test_trans)\n",
    "print(\"after PCA\")\n",
    "print(X_train_trans.shape)\n",
    "print(X_test_trans.shape)"
   ]
  },
  {
   "cell_type": "code",
   "execution_count": null,
   "metadata": {},
   "outputs": [],
   "source": []
  }
 ],
 "metadata": {
  "kernelspec": {
   "display_name": "Python 3",
   "language": "python",
   "name": "python3"
  },
  "language_info": {
   "codemirror_mode": {
    "name": "ipython",
    "version": 3
   },
   "file_extension": ".py",
   "mimetype": "text/x-python",
   "name": "python",
   "nbconvert_exporter": "python",
   "pygments_lexer": "ipython3",
   "version": "3.7.3"
  }
 },
 "nbformat": 4,
 "nbformat_minor": 2
}
