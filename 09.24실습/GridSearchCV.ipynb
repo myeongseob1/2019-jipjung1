{
 "cells": [
  {
   "cell_type": "code",
   "execution_count": 6,
   "metadata": {},
   "outputs": [
    {
     "name": "stdout",
     "output_type": "stream",
     "text": [
      "score = 0.99\n",
      "{'C': 1, 'kernel': 'linear'}\n",
      "['mean_fit_time', 'mean_score_time', 'mean_test_score', 'param_C', 'param_kernel', 'params', 'rank_test_score', 'split0_test_score', 'split1_test_score', 'split2_test_score', 'split3_test_score', 'split4_test_score', 'std_fit_time', 'std_score_time', 'std_test_score']\n"
     ]
    }
   ],
   "source": [
    "from sklearn import svm,datasets\n",
    "from sklearn.model_selection import GridSearchCV\n",
    "\n",
    "iris = datasets.load_iris()\n",
    "parameters = {'kernel':('linear','rbf'),'C':[1,10]}\n",
    "svc = svm.SVC(gamma = \"scale\")\n",
    "clf = GridSearchCV(svc,parameters,cv=5)\n",
    "clf.fit(iris.data,iris.target)\n",
    "\n",
    "print(\"score = %3.2f\"%(clf.score(iris.data,iris.target)))\n",
    "print(clf.best_params_)\n",
    "result = sorted(clf.cv_results_.keys())\n",
    "print(result)"
   ]
  },
  {
   "cell_type": "code",
   "execution_count": 7,
   "metadata": {},
   "outputs": [
    {
     "name": "stdout",
     "output_type": "stream",
     "text": [
      "[LibSVM][LibSVM][LibSVM][LibSVM][LibSVM][LibSVM][LibSVM][LibSVM][LibSVM][LibSVM][LibSVM][LibSVM][LibSVM][LibSVM][LibSVM][LibSVM][LibSVM][LibSVM][LibSVM][LibSVM][LibSVM][LibSVM][LibSVM][LibSVM][LibSVM][LibSVM][LibSVM][LibSVM][LibSVM][LibSVM][LibSVM][LibSVM][LibSVM][LibSVM][LibSVM][LibSVM][LibSVM][LibSVM][LibSVM][LibSVM][LibSVM][LibSVM][LibSVM][LibSVM][LibSVM][LibSVM][LibSVM][LibSVM][LibSVM][LibSVM][LibSVM]score = 0.95\n",
      "{'SVM__C': 1, 'SVM__gamma': 0.1}\n"
     ]
    },
    {
     "name": "stderr",
     "output_type": "stream",
     "text": [
      "C:\\Users\\kwakms123\\Anaconda3\\lib\\site-packages\\sklearn\\model_selection\\_search.py:813: DeprecationWarning: The default of the `iid` parameter will change from True to False in version 0.22 and will be removed in 0.24. This will change numeric results when test-set sizes are unequal.\n",
      "  DeprecationWarning)\n"
     ]
    }
   ],
   "source": [
    "from sklearn.pipeline import Pipeline\n",
    "\n",
    "rseed = 5\n",
    "X = iris.data\n",
    "Y = iris.target\n",
    "X_train, X_test, y_train, y_test = train_test_split(X,Y, test_size = 0.25, random_state = rseed)\n",
    "\n",
    "scalestep = MinMaxScaler(feature_range = (-1,1))\n",
    "svmstep = svm.SVC(kernel='linear', C=1, verbose=True, random_state=rseed, decision_function_shape=\"ovo\")\n",
    "steps = [('scalar', scalestep), ('SVM', svmstep)]\n",
    "\n",
    "pipeline = Pipeline(steps)\n",
    "parameters = {'SVM__C':[1,2,3,4,5], 'SVM__gamma':[0.1,0.01]}\n",
    "grid = GridSearchCV(pipeline, param_grid=parameters, cv=5, n_jobs=1)\n",
    "grid.fit(X_train, y_train)\n",
    "\n",
    "print(\"score = %3.2f\" %(grid.score(X_test, y_test)))\n",
    "print(grid.best_params_)"
   ]
  },
  {
   "cell_type": "code",
   "execution_count": null,
   "metadata": {},
   "outputs": [],
   "source": []
  }
 ],
 "metadata": {
  "kernelspec": {
   "display_name": "Python 3",
   "language": "python",
   "name": "python3"
  },
  "language_info": {
   "codemirror_mode": {
    "name": "ipython",
    "version": 3
   },
   "file_extension": ".py",
   "mimetype": "text/x-python",
   "name": "python",
   "nbconvert_exporter": "python",
   "pygments_lexer": "ipython3",
   "version": "3.7.3"
  }
 },
 "nbformat": 4,
 "nbformat_minor": 2
}
