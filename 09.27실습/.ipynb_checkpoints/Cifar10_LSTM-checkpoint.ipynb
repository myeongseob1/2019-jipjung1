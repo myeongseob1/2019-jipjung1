{
 "cells": [
  {
   "cell_type": "markdown",
   "metadata": {
    "colab_type": "text",
    "id": "5fCEDCU_qrC0"
   },
   "source": [
    "<p><img alt=\"Colaboratory logo\" height=\"45px\" src=\"https://colab.research.google.com/img/colab_favicon.ico\" align=\"left\" hspace=\"10px\" vspace=\"0px\"></p>\n",
    "\n",
    "<h1>Welcome to Colaboratory!</h1>\n",
    "\n",
    "\n",
    "Colaboratory is a free Jupyter notebook environment that requires no setup and runs entirely in the cloud.\n",
    "\n",
    "With Colaboratory you can write and execute code, save and share your analyses, and access powerful computing resources, all for free from your browser."
   ]
  },
  {
   "cell_type": "code",
   "execution_count": 0,
   "metadata": {
    "colab": {
     "height": 420
    },
    "colab_type": "code",
    "id": "xitplqMNk_Hc",
    "outputId": "ed4f60d2-878d-4056-c438-352dac39a112"
   },
   "outputs": [
    {
     "data": {
      "text/html": [
       "\n",
       "        <iframe\n",
       "            width=\"600\"\n",
       "            height=\"400\"\n",
       "            src=\"https://www.youtube.com/embed/inN8seMm7UI\"\n",
       "            frameborder=\"0\"\n",
       "            allowfullscreen\n",
       "        ></iframe>\n",
       "        "
      ],
      "text/plain": [
       "<IPython.lib.display.YouTubeVideo at 0x7f956e9dda50>"
      ]
     },
     "execution_count": 0,
     "metadata": {
      "tags": []
     },
     "output_type": "execute_result"
    }
   ],
   "source": [
    "#@title Introducing Colaboratory { display-mode: \"form\" }\n",
    "#@markdown This 3-minute video gives an overview of the key features of Colaboratory:\n",
    "from IPython.display import YouTubeVideo\n",
    "YouTubeVideo('inN8seMm7UI', width=600, height=400)"
   ]
  },
  {
   "cell_type": "markdown",
   "metadata": {
    "colab_type": "text",
    "id": "GJBs_flRovLc"
   },
   "source": [
    "## Getting Started\n",
    "\n",
    "The document you are reading is a  [Jupyter notebook](https://jupyter.org/), hosted in Colaboratory. It is not a static page, but an interactive environment that lets you write and execute code in Python and other languages.\n",
    "\n",
    "For example, here is a **code cell** with a short Python script that computes a value, stores it in a variable, and prints the result:"
   ]
  },
  {
   "cell_type": "code",
   "execution_count": 0,
   "metadata": {
    "colab": {
     "height": 35
    },
    "colab_type": "code",
    "id": "gJr_9dXGpJ05",
    "outputId": "5626194c-e802-4293-942d-2908885c3c1f"
   },
   "outputs": [
    {
     "data": {
      "text/plain": [
       "86400"
      ]
     },
     "execution_count": 0,
     "metadata": {
      "tags": []
     },
     "output_type": "execute_result"
    }
   ],
   "source": [
    "seconds_in_a_day = 24 * 60 * 60\n",
    "seconds_in_a_day"
   ]
  },
  {
   "cell_type": "markdown",
   "metadata": {
    "colab_type": "text",
    "id": "2fhs6GZ4qFMx"
   },
   "source": [
    "To execute the code in the above cell, select it with a click and then either press the play button to the left of the code, or use the keyboard shortcut \"Command/Ctrl+Enter\".\n",
    "\n",
    "All cells modify the same global state, so variables that you define by executing a cell can be used in other cells:"
   ]
  },
  {
   "cell_type": "code",
   "execution_count": 0,
   "metadata": {
    "colab": {
     "height": 35
    },
    "colab_type": "code",
    "id": "-gE-Ez1qtyIA",
    "outputId": "8d2e4259-4682-4e19-b683-7b9087f28820"
   },
   "outputs": [
    {
     "data": {
      "text/plain": [
       "604800"
      ]
     },
     "execution_count": 0,
     "metadata": {
      "tags": []
     },
     "output_type": "execute_result"
    }
   ],
   "source": [
    "seconds_in_a_week = 7 * seconds_in_a_day\n",
    "seconds_in_a_week"
   ]
  },
  {
   "cell_type": "markdown",
   "metadata": {
    "colab_type": "text",
    "id": "lSrWNr3MuFUS"
   },
   "source": [
    "For more information about working with Colaboratory notebooks, see [Overview of Colaboratory](/notebooks/basic_features_overview.ipynb).\n"
   ]
  },
  {
   "cell_type": "markdown",
   "metadata": {
    "colab_type": "text",
    "id": "-Rh3-Vt9Nev9"
   },
   "source": [
    "## More Resources\n",
    "\n",
    "Learn how to make the most of Python, Jupyter, Colaboratory, and related tools with these resources:\n",
    "\n",
    "### Working with Notebooks in Colaboratory\n",
    "- [Overview of Colaboratory](/notebooks/basic_features_overview.ipynb)\n",
    "- [Guide to Markdown](/notebooks/markdown_guide.ipynb)\n",
    "- [Importing libraries and installing dependencies](/notebooks/snippets/importing_libraries.ipynb)\n",
    "- [Saving and loading notebooks in GitHub](https://colab.research.google.com/github/googlecolab/colabtools/blob/master/notebooks/colab-github-demo.ipynb)\n",
    "- [Interactive forms](/notebooks/forms.ipynb)\n",
    "- [Interactive widgets](/notebooks/widgets.ipynb)\n",
    "\n",
    "### Working with Data\n",
    "- [Loading data: Drive, Sheets, and Google Cloud Storage](/notebooks/io.ipynb) \n",
    "- [Charts: visualizing data](/notebooks/charts.ipynb)\n",
    "- [Getting started with BigQuery](/notebooks/bigquery.ipynb)\n",
    "\n",
    "### Machine Learning Crash Course\n",
    "These are a few of the notebooks from Google's online Machine Learning course. See the [full course website](https://developers.google.com/machine-learning/crash-course/) for more.\n",
    "- [Intro to Pandas](/notebooks/mlcc/intro_to_pandas.ipynb)\n",
    "- [Tensorflow concepts](/notebooks/mlcc/tensorflow_programming_concepts.ipynb)\n",
    "- [First steps with TensorFlow](/notebooks/mlcc/first_steps_with_tensor_flow.ipynb)\n",
    "- [Intro to neural nets](/notebooks/mlcc/intro_to_neural_nets.ipynb)\n",
    "- [Intro to sparse data and embeddings](/notebooks/mlcc/intro_to_sparse_data_and_embeddings.ipynb)\n",
    "\n",
    "### Using Accelerated Hardware\n",
    "- [TensorFlow with GPUs](/notebooks/gpu.ipynb)\n",
    "- [TensorFlow with TPUs](/notebooks/tpu.ipynb)"
   ]
  },
  {
   "cell_type": "markdown",
   "metadata": {
    "colab_type": "text",
    "id": "P-H6Lw1vyNNd"
   },
   "source": [
    "## Machine Learning Examples: Seedbank\n",
    "\n",
    "To see end-to-end examples of the interactive machine learning analyses that Colaboratory makes possible, check out the [Seedbank](https://research.google.com/seedbank/) project.\n",
    "\n",
    "A few featured examples:\n",
    "\n",
    "- [Neural Style Transfer](https://research.google.com/seedbank/seed/neural_style_transfer_with_tfkeras): Use deep learning to transfer style between images.\n",
    "- [EZ NSynth](https://research.google.com/seedbank/seed/ez_nsynth): Synthesize audio with WaveNet auto-encoders.\n",
    "- [Fashion MNIST with Keras and TPUs](https://research.google.com/seedbank/seed/fashion_mnist_with_keras_and_tpus): Classify fashion-related images with deep learning.\n",
    "- [DeepDream](https://research.google.com/seedbank/seed/deepdream): Produce DeepDream images from your own photos.\n",
    "- [Convolutional VAE](https://research.google.com/seedbank/seed/convolutional_vae): Create a generative model of handwritten digits."
   ]
  },
  {
   "cell_type": "code",
   "execution_count": 30,
   "metadata": {
    "colab": {
     "base_uri": "https://localhost:8080/",
     "height": 821
    },
    "colab_type": "code",
    "id": "hEvnmuJbGXxz",
    "outputId": "2c5e814c-f3c3-4aa6-8639-5d359d31da5c"
   },
   "outputs": [
    {
     "name": "stdout",
     "output_type": "stream",
     "text": [
      "Train on 40000 samples, validate on 10000 samples\n",
      "Epoch 1/20\n",
      "40000/40000 [==============================] - 34s 853us/step - loss: 2.1267 - acc: 0.2168 - val_loss: 1.9789 - val_acc: 0.2666\n",
      "Epoch 2/20\n",
      "40000/40000 [==============================] - 30s 748us/step - loss: 1.9359 - acc: 0.2885 - val_loss: 1.8986 - val_acc: 0.3147\n",
      "Epoch 3/20\n",
      "40000/40000 [==============================] - 30s 747us/step - loss: 1.8666 - acc: 0.3185 - val_loss: 1.8369 - val_acc: 0.3289\n",
      "Epoch 4/20\n",
      "40000/40000 [==============================] - 30s 747us/step - loss: 1.8326 - acc: 0.3317 - val_loss: 1.8179 - val_acc: 0.3301\n",
      "Epoch 5/20\n",
      "40000/40000 [==============================] - 30s 745us/step - loss: 1.7886 - acc: 0.3468 - val_loss: 1.7891 - val_acc: 0.3443\n",
      "Epoch 6/20\n",
      "40000/40000 [==============================] - 30s 745us/step - loss: 1.7585 - acc: 0.3569 - val_loss: 1.7692 - val_acc: 0.3501\n",
      "Epoch 7/20\n",
      "40000/40000 [==============================] - 30s 748us/step - loss: 1.7464 - acc: 0.3586 - val_loss: 1.7514 - val_acc: 0.3533\n",
      "Epoch 8/20\n",
      "40000/40000 [==============================] - 30s 749us/step - loss: 1.7234 - acc: 0.3698 - val_loss: 1.7376 - val_acc: 0.3605\n",
      "Epoch 9/20\n",
      "40000/40000 [==============================] - 30s 750us/step - loss: 1.7070 - acc: 0.3773 - val_loss: 1.7257 - val_acc: 0.3677\n",
      "Epoch 10/20\n",
      "40000/40000 [==============================] - 30s 746us/step - loss: 1.6905 - acc: 0.3794 - val_loss: 1.6956 - val_acc: 0.3754\n",
      "Epoch 11/20\n",
      "40000/40000 [==============================] - 30s 748us/step - loss: 1.6750 - acc: 0.3875 - val_loss: 1.6813 - val_acc: 0.3889\n",
      "Epoch 12/20\n",
      "40000/40000 [==============================] - 30s 747us/step - loss: 1.6628 - acc: 0.3943 - val_loss: 1.6798 - val_acc: 0.3876\n",
      "Epoch 13/20\n",
      "40000/40000 [==============================] - 30s 743us/step - loss: 1.6522 - acc: 0.3977 - val_loss: 1.6642 - val_acc: 0.3897\n",
      "Epoch 14/20\n",
      "40000/40000 [==============================] - 30s 742us/step - loss: 1.6405 - acc: 0.4007 - val_loss: 1.6511 - val_acc: 0.3948\n",
      "Epoch 15/20\n",
      "40000/40000 [==============================] - 30s 742us/step - loss: 1.6295 - acc: 0.4046 - val_loss: 1.6376 - val_acc: 0.4024\n",
      "Epoch 16/20\n",
      "40000/40000 [==============================] - 30s 744us/step - loss: 1.6214 - acc: 0.4057 - val_loss: 1.6463 - val_acc: 0.4001\n",
      "Epoch 17/20\n",
      "40000/40000 [==============================] - 30s 739us/step - loss: 1.6106 - acc: 0.4115 - val_loss: 1.6222 - val_acc: 0.4066\n",
      "Epoch 18/20\n",
      "40000/40000 [==============================] - 29s 730us/step - loss: 1.6101 - acc: 0.4126 - val_loss: 1.6343 - val_acc: 0.4050\n",
      "Epoch 19/20\n",
      "40000/40000 [==============================] - 30s 740us/step - loss: 1.5998 - acc: 0.4162 - val_loss: 1.6165 - val_acc: 0.4113\n",
      "Epoch 20/20\n",
      "40000/40000 [==============================] - 29s 734us/step - loss: 1.5904 - acc: 0.4182 - val_loss: 1.6088 - val_acc: 0.4182\n",
      "0.4135\n"
     ]
    }
   ],
   "source": [
    "import numpy as np\n",
    "from sklearn.metrics import accuracy_score\n",
    "from keras.datasets import cifar10\n",
    "from keras.utils import to_categorical\n",
    "from keras.models import Sequential, Model\n",
    "from keras import optimizers\n",
    "from keras.layers import SimpleRNN, Dense, BatchNormalization,Activation, Flatten, LSTM, Dropout\n",
    "from keras.wrappers.scikit_learn import KerasClassifier\n",
    "\n",
    "(X_train, y_train), (X_test, y_test) = cifar10.load_data()\n",
    "\n",
    "X_train = X_train.reshape(X_train.shape[0],X_train.shape[1],X_train.shape[2]*3)\n",
    "X_test = X_test.reshape(X_test.shape[0],X_test.shape[1],X_test.shape[2]*3)\n",
    "X_train = X_train/255\n",
    "X_test = X_test/255\n",
    "\n",
    "y_train = to_categorical(y_train)\n",
    "y_test = to_categorical(y_test)\n",
    "\n",
    "def modelmake():\n",
    "  model = Sequential()\n",
    "  # model.add(SimpleRNN(20,input_shape = (32,96),return_sequences= True))\n",
    "  # model.add(SimpleRNN(20,return_sequences= False))\n",
    "  model.add(LSTM(20,input_shape = (32,96), return_sequences= True))\n",
    "  model.add(LSTM(20, return_sequences= False))\n",
    "  model.add(Dense(10))\n",
    "  model.add(Activation('softmax'))\n",
    "  adam = optimizers.Adam(lr = 0.001)\n",
    "  model.compile(loss = 'categorical_crossentropy', optimizer = adam, metrics = ['accuracy'])\n",
    "  return model\n",
    "\n",
    "model = KerasClassifier(build_fn = modelmake, epochs = 20, batch_size =200, validation_split = 0.2,shuffle = True)\n",
    "\n",
    "history = model.fit(X_train, y_train)\n",
    "y_pred = model.predict(X_test)\n",
    "y_test_ = np.argmax(y_test, axis = 1)\n",
    "print(accuracy_score(y_pred, y_test_))"
   ]
  }
 ],
 "metadata": {
  "accelerator": "GPU",
  "colab": {
   "collapsed_sections": [],
   "name": "Welcome To Colaboratory",
   "provenance": [],
   "toc_visible": true
  },
  "kernelspec": {
   "display_name": "Python 3",
   "language": "python",
   "name": "python3"
  },
  "language_info": {
   "codemirror_mode": {
    "name": "ipython",
    "version": 3
   },
   "file_extension": ".py",
   "mimetype": "text/x-python",
   "name": "python",
   "nbconvert_exporter": "python",
   "pygments_lexer": "ipython3",
   "version": "3.7.3"
  }
 },
 "nbformat": 4,
 "nbformat_minor": 1
}
