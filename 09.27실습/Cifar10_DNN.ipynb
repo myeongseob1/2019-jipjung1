{
  "nbformat": 4,
  "nbformat_minor": 0,
  "metadata": {
    "colab": {
      "name": "Welcome To Colaboratory",
      "provenance": [],
      "collapsed_sections": [],
      "toc_visible": true
    },
    "kernelspec": {
      "display_name": "Python 3",
      "name": "python3"
    }
  },
  "cells": [
    {
      "cell_type": "markdown",
      "metadata": {
        "colab_type": "text",
        "id": "5fCEDCU_qrC0"
      },
      "source": [
        "<p><img alt=\"Colaboratory logo\" height=\"45px\" src=\"https://colab.research.google.com/img/colab_favicon.ico\" align=\"left\" hspace=\"10px\" vspace=\"0px\"></p>\n",
        "\n",
        "<h1>Welcome to Colaboratory!</h1>\n",
        "\n",
        "\n",
        "Colaboratory is a free Jupyter notebook environment that requires no setup and runs entirely in the cloud.\n",
        "\n",
        "With Colaboratory you can write and execute code, save and share your analyses, and access powerful computing resources, all for free from your browser."
      ]
    },
    {
      "cell_type": "code",
      "metadata": {
        "colab_type": "code",
        "id": "xitplqMNk_Hc",
        "outputId": "ed4f60d2-878d-4056-c438-352dac39a112",
        "colab": {
          "height": 420
        }
      },
      "source": [
        "#@title Introducing Colaboratory { display-mode: \"form\" }\n",
        "#@markdown This 3-minute video gives an overview of the key features of Colaboratory:\n",
        "from IPython.display import YouTubeVideo\n",
        "YouTubeVideo('inN8seMm7UI', width=600, height=400)"
      ],
      "execution_count": 0,
      "outputs": [
        {
          "output_type": "execute_result",
          "data": {
            "text/html": [
              "\n",
              "        <iframe\n",
              "            width=\"600\"\n",
              "            height=\"400\"\n",
              "            src=\"https://www.youtube.com/embed/inN8seMm7UI\"\n",
              "            frameborder=\"0\"\n",
              "            allowfullscreen\n",
              "        ></iframe>\n",
              "        "
            ],
            "text/plain": [
              "<IPython.lib.display.YouTubeVideo at 0x7f956e9dda50>"
            ]
          },
          "metadata": {
            "tags": []
          },
          "execution_count": 0
        }
      ]
    },
    {
      "cell_type": "markdown",
      "metadata": {
        "colab_type": "text",
        "id": "GJBs_flRovLc"
      },
      "source": [
        "## Getting Started\n",
        "\n",
        "The document you are reading is a  [Jupyter notebook](https://jupyter.org/), hosted in Colaboratory. It is not a static page, but an interactive environment that lets you write and execute code in Python and other languages.\n",
        "\n",
        "For example, here is a **code cell** with a short Python script that computes a value, stores it in a variable, and prints the result:"
      ]
    },
    {
      "cell_type": "code",
      "metadata": {
        "colab_type": "code",
        "id": "gJr_9dXGpJ05",
        "outputId": "5626194c-e802-4293-942d-2908885c3c1f",
        "colab": {
          "height": 35
        }
      },
      "source": [
        "seconds_in_a_day = 24 * 60 * 60\n",
        "seconds_in_a_day"
      ],
      "execution_count": 0,
      "outputs": [
        {
          "output_type": "execute_result",
          "data": {
            "text/plain": [
              "86400"
            ]
          },
          "metadata": {
            "tags": []
          },
          "execution_count": 0
        }
      ]
    },
    {
      "cell_type": "markdown",
      "metadata": {
        "colab_type": "text",
        "id": "2fhs6GZ4qFMx"
      },
      "source": [
        "To execute the code in the above cell, select it with a click and then either press the play button to the left of the code, or use the keyboard shortcut \"Command/Ctrl+Enter\".\n",
        "\n",
        "All cells modify the same global state, so variables that you define by executing a cell can be used in other cells:"
      ]
    },
    {
      "cell_type": "code",
      "metadata": {
        "colab_type": "code",
        "id": "-gE-Ez1qtyIA",
        "outputId": "8d2e4259-4682-4e19-b683-7b9087f28820",
        "colab": {
          "height": 35
        }
      },
      "source": [
        "seconds_in_a_week = 7 * seconds_in_a_day\n",
        "seconds_in_a_week"
      ],
      "execution_count": 0,
      "outputs": [
        {
          "output_type": "execute_result",
          "data": {
            "text/plain": [
              "604800"
            ]
          },
          "metadata": {
            "tags": []
          },
          "execution_count": 0
        }
      ]
    },
    {
      "cell_type": "markdown",
      "metadata": {
        "colab_type": "text",
        "id": "lSrWNr3MuFUS"
      },
      "source": [
        "For more information about working with Colaboratory notebooks, see [Overview of Colaboratory](/notebooks/basic_features_overview.ipynb).\n"
      ]
    },
    {
      "cell_type": "markdown",
      "metadata": {
        "colab_type": "text",
        "id": "-Rh3-Vt9Nev9"
      },
      "source": [
        "## More Resources\n",
        "\n",
        "Learn how to make the most of Python, Jupyter, Colaboratory, and related tools with these resources:\n",
        "\n",
        "### Working with Notebooks in Colaboratory\n",
        "- [Overview of Colaboratory](/notebooks/basic_features_overview.ipynb)\n",
        "- [Guide to Markdown](/notebooks/markdown_guide.ipynb)\n",
        "- [Importing libraries and installing dependencies](/notebooks/snippets/importing_libraries.ipynb)\n",
        "- [Saving and loading notebooks in GitHub](https://colab.research.google.com/github/googlecolab/colabtools/blob/master/notebooks/colab-github-demo.ipynb)\n",
        "- [Interactive forms](/notebooks/forms.ipynb)\n",
        "- [Interactive widgets](/notebooks/widgets.ipynb)\n",
        "\n",
        "### Working with Data\n",
        "- [Loading data: Drive, Sheets, and Google Cloud Storage](/notebooks/io.ipynb) \n",
        "- [Charts: visualizing data](/notebooks/charts.ipynb)\n",
        "- [Getting started with BigQuery](/notebooks/bigquery.ipynb)\n",
        "\n",
        "### Machine Learning Crash Course\n",
        "These are a few of the notebooks from Google's online Machine Learning course. See the [full course website](https://developers.google.com/machine-learning/crash-course/) for more.\n",
        "- [Intro to Pandas](/notebooks/mlcc/intro_to_pandas.ipynb)\n",
        "- [Tensorflow concepts](/notebooks/mlcc/tensorflow_programming_concepts.ipynb)\n",
        "- [First steps with TensorFlow](/notebooks/mlcc/first_steps_with_tensor_flow.ipynb)\n",
        "- [Intro to neural nets](/notebooks/mlcc/intro_to_neural_nets.ipynb)\n",
        "- [Intro to sparse data and embeddings](/notebooks/mlcc/intro_to_sparse_data_and_embeddings.ipynb)\n",
        "\n",
        "### Using Accelerated Hardware\n",
        "- [TensorFlow with GPUs](/notebooks/gpu.ipynb)\n",
        "- [TensorFlow with TPUs](/notebooks/tpu.ipynb)"
      ]
    },
    {
      "cell_type": "markdown",
      "metadata": {
        "colab_type": "text",
        "id": "P-H6Lw1vyNNd"
      },
      "source": [
        "## Machine Learning Examples: Seedbank\n",
        "\n",
        "To see end-to-end examples of the interactive machine learning analyses that Colaboratory makes possible, check out the [Seedbank](https://research.google.com/seedbank/) project.\n",
        "\n",
        "A few featured examples:\n",
        "\n",
        "- [Neural Style Transfer](https://research.google.com/seedbank/seed/neural_style_transfer_with_tfkeras): Use deep learning to transfer style between images.\n",
        "- [EZ NSynth](https://research.google.com/seedbank/seed/ez_nsynth): Synthesize audio with WaveNet auto-encoders.\n",
        "- [Fashion MNIST with Keras and TPUs](https://research.google.com/seedbank/seed/fashion_mnist_with_keras_and_tpus): Classify fashion-related images with deep learning.\n",
        "- [DeepDream](https://research.google.com/seedbank/seed/deepdream): Produce DeepDream images from your own photos.\n",
        "- [Convolutional VAE](https://research.google.com/seedbank/seed/convolutional_vae): Create a generative model of handwritten digits."
      ]
    },
    {
      "cell_type": "code",
      "metadata": {
        "id": "oIckeUpHRr56",
        "colab_type": "code",
        "colab": {
          "base_uri": "https://localhost:8080/",
          "height": 467
        },
        "outputId": "9cce6641-0942-49ef-e42b-3c6408330f0d"
      },
      "source": [
        "# DNN_CIFAR-10 / MNIST보다 복잡한 데이터의 처리(R,G,B)\n",
        "import numpy as np\n",
        "from keras import datasets\n",
        "from keras.utils import np_utils\n",
        "from keras import layers, models\n",
        " \n",
        " \n",
        "class DNN(models.Sequential):\n",
        "    def __init__(self, Nin, Nh_l, Pd_l, Nout):\n",
        "        super().__init__()\n",
        "\n",
        "        self.add(layers.Dense(1000, activation='relu',input_shape=(Nin,), name='Hidden-1'))\n",
        "        self.add(layers.Dropout(0.1))\n",
        "        self.add(layers.Dense(500, activation='relu', name='Hidden-2'))\n",
        "        self.add(layers.Dropout(0.2))\n",
        "        self.add(layers.Dense(Nout, activation='softmax'))\n",
        "        self.compile(loss='categorical_crossentropy', optimizer='adam', metrics=['accuracy'])\n",
        "     \n",
        "# 데이터 정리\n",
        "def Data_func():\n",
        "    (X_train, y_train), (X_test, y_test) = datasets.cifar10.load_data()\n",
        " \n",
        "    # 0~9 사이의 정수값을 10개의 원소를 가지는 벡터로 변환\n",
        "    # 1 -> 0100000000, 2 -> 0010000000, 9 -> 0000000001\n",
        "    Y_train = np_utils.to_categorical(y_train)\n",
        "    Y_test = np_utils.to_categorical(y_test)\n",
        " \n",
        "    L, W, H, C = X_train.shape\n",
        "    X_train = X_train.reshape(-1, W * H * C)\n",
        "    X_test = X_test.reshape(-1, W * H * C)\n",
        " \n",
        "    X_train = X_train / 255.0\n",
        "    X_test = X_test / 255.0\n",
        " \n",
        "    return (X_train, Y_train), (X_test, Y_test)\n",
        "import matplotlib.pyplot as plt\n",
        " \n",
        "# 모델 테스팅\n",
        "def main():\n",
        "    Nh_l = [100, 50]\n",
        "    Pd_l = [0.0, 0.0]\n",
        "    number_of_class = 10\n",
        "    Nout = number_of_class\n",
        " \n",
        "    (X_train, Y_train), (X_test, Y_test) = Data_func()\n",
        "    model = DNN(X_train.shape[1], Nh_l, Pd_l, Nout)\n",
        "    history = model.fit(X_train, Y_train, epochs=10, batch_size=100, validation_split=0.2)\n",
        " \n",
        "    performace_test = model.evaluate(X_test, Y_test, batch_size=100)\n",
        "    print('Test Loss and Accuracy ->', performace_test)\n",
        " \n",
        "    plt.show()\n",
        "    plt.show()\n",
        " \n",
        "if __name__ == '__main__':\n",
        "    main()"
      ],
      "execution_count": 6,
      "outputs": [
        {
          "output_type": "stream",
          "text": [
            "Train on 40000 samples, validate on 10000 samples\n",
            "Epoch 1/10\n",
            "40000/40000 [==============================] - 36s 907us/step - loss: 1.9561 - acc: 0.2956 - val_loss: 1.7975 - val_acc: 0.3619\n",
            "Epoch 2/10\n",
            "40000/40000 [==============================] - 36s 893us/step - loss: 1.7727 - acc: 0.3584 - val_loss: 1.7560 - val_acc: 0.3699\n",
            "Epoch 3/10\n",
            "40000/40000 [==============================] - 36s 910us/step - loss: 1.7024 - acc: 0.3905 - val_loss: 1.6465 - val_acc: 0.4187\n",
            "Epoch 4/10\n",
            "40000/40000 [==============================] - 37s 916us/step - loss: 1.6385 - acc: 0.4121 - val_loss: 1.6206 - val_acc: 0.4198\n",
            "Epoch 5/10\n",
            "40000/40000 [==============================] - 37s 921us/step - loss: 1.6113 - acc: 0.4228 - val_loss: 1.6014 - val_acc: 0.4247\n",
            "Epoch 6/10\n",
            "40000/40000 [==============================] - 36s 905us/step - loss: 1.5796 - acc: 0.4342 - val_loss: 1.5663 - val_acc: 0.4394\n",
            "Epoch 7/10\n",
            "40000/40000 [==============================] - 38s 945us/step - loss: 1.5588 - acc: 0.4407 - val_loss: 1.5434 - val_acc: 0.4486\n",
            "Epoch 8/10\n",
            "40000/40000 [==============================] - 36s 889us/step - loss: 1.5386 - acc: 0.4493 - val_loss: 1.5304 - val_acc: 0.4572\n",
            "Epoch 9/10\n",
            "40000/40000 [==============================] - 35s 877us/step - loss: 1.5223 - acc: 0.4493 - val_loss: 1.5276 - val_acc: 0.4557\n",
            "Epoch 10/10\n",
            "40000/40000 [==============================] - 36s 899us/step - loss: 1.4978 - acc: 0.4613 - val_loss: 1.5325 - val_acc: 0.4630\n",
            "10000/10000 [==============================] - 2s 192us/step\n",
            "Test Loss and Accuracy -> [1.5008604526519775, 0.4694999974966049]\n"
          ],
          "name": "stdout"
        }
      ]
    }
  ]
}