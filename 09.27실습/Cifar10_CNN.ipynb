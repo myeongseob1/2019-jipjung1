{
  "nbformat": 4,
  "nbformat_minor": 0,
  "metadata": {
    "colab": {
      "name": "Welcome To Colaboratory",
      "provenance": [],
      "collapsed_sections": [],
      "toc_visible": true
    },
    "kernelspec": {
      "name": "python3",
      "display_name": "Python 3"
    },
    "accelerator": "GPU"
  },
  "cells": [
    {
      "cell_type": "markdown",
      "metadata": {
        "colab_type": "text",
        "id": "5fCEDCU_qrC0"
      },
      "source": [
        "<p><img alt=\"Colaboratory logo\" height=\"45px\" src=\"https://colab.research.google.com/img/colab_favicon.ico\" align=\"left\" hspace=\"10px\" vspace=\"0px\"></p>\n",
        "\n",
        "<h1>Welcome to Colaboratory!</h1>\n",
        "\n",
        "\n",
        "Colaboratory is a free Jupyter notebook environment that requires no setup and runs entirely in the cloud.\n",
        "\n",
        "With Colaboratory you can write and execute code, save and share your analyses, and access powerful computing resources, all for free from your browser."
      ]
    },
    {
      "cell_type": "code",
      "metadata": {
        "colab_type": "code",
        "id": "xitplqMNk_Hc",
        "outputId": "ed4f60d2-878d-4056-c438-352dac39a112",
        "colab": {
          "height": 420
        }
      },
      "source": [
        "#@title Introducing Colaboratory { display-mode: \"form\" }\n",
        "#@markdown This 3-minute video gives an overview of the key features of Colaboratory:\n",
        "from IPython.display import YouTubeVideo\n",
        "YouTubeVideo('inN8seMm7UI', width=600, height=400)"
      ],
      "execution_count": 0,
      "outputs": [
        {
          "output_type": "execute_result",
          "data": {
            "text/html": [
              "\n",
              "        <iframe\n",
              "            width=\"600\"\n",
              "            height=\"400\"\n",
              "            src=\"https://www.youtube.com/embed/inN8seMm7UI\"\n",
              "            frameborder=\"0\"\n",
              "            allowfullscreen\n",
              "        ></iframe>\n",
              "        "
            ],
            "text/plain": [
              "<IPython.lib.display.YouTubeVideo at 0x7f956e9dda50>"
            ]
          },
          "metadata": {
            "tags": []
          },
          "execution_count": 0
        }
      ]
    },
    {
      "cell_type": "markdown",
      "metadata": {
        "colab_type": "text",
        "id": "GJBs_flRovLc"
      },
      "source": [
        "## Getting Started\n",
        "\n",
        "The document you are reading is a  [Jupyter notebook](https://jupyter.org/), hosted in Colaboratory. It is not a static page, but an interactive environment that lets you write and execute code in Python and other languages.\n",
        "\n",
        "For example, here is a **code cell** with a short Python script that computes a value, stores it in a variable, and prints the result:"
      ]
    },
    {
      "cell_type": "code",
      "metadata": {
        "colab_type": "code",
        "id": "gJr_9dXGpJ05",
        "outputId": "5626194c-e802-4293-942d-2908885c3c1f",
        "colab": {
          "height": 35
        }
      },
      "source": [
        "seconds_in_a_day = 24 * 60 * 60\n",
        "seconds_in_a_day"
      ],
      "execution_count": 0,
      "outputs": [
        {
          "output_type": "execute_result",
          "data": {
            "text/plain": [
              "86400"
            ]
          },
          "metadata": {
            "tags": []
          },
          "execution_count": 0
        }
      ]
    },
    {
      "cell_type": "markdown",
      "metadata": {
        "colab_type": "text",
        "id": "2fhs6GZ4qFMx"
      },
      "source": [
        "To execute the code in the above cell, select it with a click and then either press the play button to the left of the code, or use the keyboard shortcut \"Command/Ctrl+Enter\".\n",
        "\n",
        "All cells modify the same global state, so variables that you define by executing a cell can be used in other cells:"
      ]
    },
    {
      "cell_type": "code",
      "metadata": {
        "colab_type": "code",
        "id": "-gE-Ez1qtyIA",
        "outputId": "8d2e4259-4682-4e19-b683-7b9087f28820",
        "colab": {
          "height": 35
        }
      },
      "source": [
        "seconds_in_a_week = 7 * seconds_in_a_day\n",
        "seconds_in_a_week"
      ],
      "execution_count": 0,
      "outputs": [
        {
          "output_type": "execute_result",
          "data": {
            "text/plain": [
              "604800"
            ]
          },
          "metadata": {
            "tags": []
          },
          "execution_count": 0
        }
      ]
    },
    {
      "cell_type": "markdown",
      "metadata": {
        "colab_type": "text",
        "id": "lSrWNr3MuFUS"
      },
      "source": [
        "For more information about working with Colaboratory notebooks, see [Overview of Colaboratory](/notebooks/basic_features_overview.ipynb).\n"
      ]
    },
    {
      "cell_type": "markdown",
      "metadata": {
        "colab_type": "text",
        "id": "-Rh3-Vt9Nev9"
      },
      "source": [
        "## More Resources\n",
        "\n",
        "Learn how to make the most of Python, Jupyter, Colaboratory, and related tools with these resources:\n",
        "\n",
        "### Working with Notebooks in Colaboratory\n",
        "- [Overview of Colaboratory](/notebooks/basic_features_overview.ipynb)\n",
        "- [Guide to Markdown](/notebooks/markdown_guide.ipynb)\n",
        "- [Importing libraries and installing dependencies](/notebooks/snippets/importing_libraries.ipynb)\n",
        "- [Saving and loading notebooks in GitHub](https://colab.research.google.com/github/googlecolab/colabtools/blob/master/notebooks/colab-github-demo.ipynb)\n",
        "- [Interactive forms](/notebooks/forms.ipynb)\n",
        "- [Interactive widgets](/notebooks/widgets.ipynb)\n",
        "\n",
        "### Working with Data\n",
        "- [Loading data: Drive, Sheets, and Google Cloud Storage](/notebooks/io.ipynb) \n",
        "- [Charts: visualizing data](/notebooks/charts.ipynb)\n",
        "- [Getting started with BigQuery](/notebooks/bigquery.ipynb)\n",
        "\n",
        "### Machine Learning Crash Course\n",
        "These are a few of the notebooks from Google's online Machine Learning course. See the [full course website](https://developers.google.com/machine-learning/crash-course/) for more.\n",
        "- [Intro to Pandas](/notebooks/mlcc/intro_to_pandas.ipynb)\n",
        "- [Tensorflow concepts](/notebooks/mlcc/tensorflow_programming_concepts.ipynb)\n",
        "- [First steps with TensorFlow](/notebooks/mlcc/first_steps_with_tensor_flow.ipynb)\n",
        "- [Intro to neural nets](/notebooks/mlcc/intro_to_neural_nets.ipynb)\n",
        "- [Intro to sparse data and embeddings](/notebooks/mlcc/intro_to_sparse_data_and_embeddings.ipynb)\n",
        "\n",
        "### Using Accelerated Hardware\n",
        "- [TensorFlow with GPUs](/notebooks/gpu.ipynb)\n",
        "- [TensorFlow with TPUs](/notebooks/tpu.ipynb)"
      ]
    },
    {
      "cell_type": "markdown",
      "metadata": {
        "colab_type": "text",
        "id": "P-H6Lw1vyNNd"
      },
      "source": [
        "## Machine Learning Examples: Seedbank\n",
        "\n",
        "To see end-to-end examples of the interactive machine learning analyses that Colaboratory makes possible, check out the [Seedbank](https://research.google.com/seedbank/) project.\n",
        "\n",
        "A few featured examples:\n",
        "\n",
        "- [Neural Style Transfer](https://research.google.com/seedbank/seed/neural_style_transfer_with_tfkeras): Use deep learning to transfer style between images.\n",
        "- [EZ NSynth](https://research.google.com/seedbank/seed/ez_nsynth): Synthesize audio with WaveNet auto-encoders.\n",
        "- [Fashion MNIST with Keras and TPUs](https://research.google.com/seedbank/seed/fashion_mnist_with_keras_and_tpus): Classify fashion-related images with deep learning.\n",
        "- [DeepDream](https://research.google.com/seedbank/seed/deepdream): Produce DeepDream images from your own photos.\n",
        "- [Convolutional VAE](https://research.google.com/seedbank/seed/convolutional_vae): Create a generative model of handwritten digits."
      ]
    },
    {
      "cell_type": "code",
      "metadata": {
        "id": "oIckeUpHRr56",
        "colab_type": "code",
        "colab": {
          "base_uri": "https://localhost:8080/",
          "height": 821
        },
        "outputId": "4d106ad3-abb6-4011-fc3e-782cd6dcf886"
      },
      "source": [
        "# test harness for evaluating models on the cifar10 dataset\n",
        "import sys\n",
        "from matplotlib import pyplot\n",
        "from keras.datasets import cifar10\n",
        "from keras.utils import to_categorical\n",
        "from keras.models import Sequential\n",
        "from keras.layers import Conv2D\n",
        "from keras.layers import MaxPooling2D\n",
        "from keras.layers import Dense\n",
        "from keras.layers import Flatten\n",
        "from keras.optimizers import Adam\n",
        " \n",
        "(trainX, trainY), (testX, testY) = cifar10.load_data()\n",
        "# one hot encode target values\n",
        "trainY = to_categorical(trainY)\n",
        "testY = to_categorical(testY)\n",
        "  \n",
        "# load train and test dataset\n",
        "def load_dataset():\n",
        "   # load dataset\n",
        "   (trainX, trainY), (testX, testY) = cifar10.load_data()\n",
        "   # one hot encode target values\n",
        "   trainY = to_categorical(trainY)\n",
        "   testY = to_categorical(testY)\n",
        "   return trainX, trainY, testX, testY\n",
        " \n",
        "# scale pixels\n",
        "def prep_pixels(train, test):\n",
        "   # convert from integers to floats\n",
        "   train_norm = train.astype('float32')\n",
        "   test_norm = test.astype('float32')\n",
        "   # normalize to range 0-1\n",
        "   train_norm = train_norm / 255.0\n",
        "   test_norm = test_norm / 255.0\n",
        "   # return normalized images\n",
        "   return train_norm, test_norm\n",
        " \n",
        "# define cnn model\n",
        "def define_model():\n",
        "   model = Sequential()\n",
        "   model.add(Conv2D(32, (3, 3), activation='relu', kernel_initializer='he_uniform', padding='same', input_shape=(32, 32, 3)))\n",
        "   model.add(Conv2D(32, (3, 3), activation='relu', kernel_initializer='he_uniform', padding='same'))\n",
        "   model.add(MaxPooling2D((2, 2)))\n",
        "   model.add(Flatten())\n",
        "   model.add(Dense(128, activation='relu', kernel_initializer='he_uniform'))\n",
        "   model.add(Dense(10, activation='softmax'))\n",
        "   # compile model\n",
        "   opt = Adam(lr=0.001, beta_1=0.9, beta_2=0.999)\n",
        "   model.compile(optimizer=opt, loss='categorical_crossentropy', metrics=['accuracy'])\n",
        "   return model\n",
        " \n",
        "# plot diagnostic learning curves\n",
        "def summarize_diagnostics(history):\n",
        "   # plot loss\n",
        "   pyplot.subplot(211)\n",
        "   pyplot.title('Cross Entropy Loss')\n",
        "   pyplot.plot(history.history['loss'], color='blue', label='train')\n",
        "   pyplot.plot(history.history['val_loss'], color='orange', label='test')\n",
        "   # plot accuracy\n",
        "   pyplot.subplot(212)\n",
        "   pyplot.title('Classification Accuracy')\n",
        "   pyplot.plot(history.history['acc'], color='blue', label='train')\n",
        "   pyplot.plot(history.history['val_acc'], color='orange', label='test')\n",
        "   # save plot to file\n",
        "   filename = sys.argv[0].split('/')[-1]\n",
        "   pyplot.savefig(filename + '_plot.png')\n",
        "   pyplot.close()\n",
        " \n",
        "# run the test harness for evaluating a model\n",
        "def run_test_harness():\n",
        "   # load dataset\n",
        "   trainX, trainY, testX, testY = load_dataset()\n",
        "   # prepare pixel data\n",
        "   trainX, testX = prep_pixels(trainX, testX)\n",
        "   # define model\n",
        "   model = define_model()\n",
        "   # fit model\n",
        "   history = model.fit(trainX, trainY, epochs=20, batch_size=100, validation_data=(testX, testY), verbose=1)\n",
        "   # evaluate model\n",
        "   _, acc = model.evaluate(testX, testY, verbose=0)\n",
        "   print('> %.3f' % (acc * 100.0))\n",
        "   # learning curves\n",
        "   summarize_diagnostics(history)\n",
        " \n",
        "# entry point, run the test harness\n",
        "run_test_harness()\n",
        "\n",
        "# fit model\n",
        "# history = model.fit(trainX, trainY, epochs=100, batch_size=64, validation_data=(testX, testY), verbose=2)\n",
        "# evaluate model\n",
        "# _, acc = model.evaluate(testX, testY, verbose=0)"
      ],
      "execution_count": 3,
      "outputs": [
        {
          "output_type": "stream",
          "text": [
            "Train on 50000 samples, validate on 10000 samples\n",
            "Epoch 1/20\n",
            "50000/50000 [==============================] - 9s 178us/step - loss: 1.5312 - acc: 0.4591 - val_loss: 1.2147 - val_acc: 0.5653\n",
            "Epoch 2/20\n",
            "50000/50000 [==============================] - 8s 165us/step - loss: 1.0881 - acc: 0.6163 - val_loss: 1.0573 - val_acc: 0.6366\n",
            "Epoch 3/20\n",
            "50000/50000 [==============================] - 8s 165us/step - loss: 0.9253 - acc: 0.6793 - val_loss: 1.0447 - val_acc: 0.6413\n",
            "Epoch 4/20\n",
            "50000/50000 [==============================] - 8s 166us/step - loss: 0.8154 - acc: 0.7168 - val_loss: 0.9883 - val_acc: 0.6582\n",
            "Epoch 5/20\n",
            "50000/50000 [==============================] - 8s 165us/step - loss: 0.7249 - acc: 0.7475 - val_loss: 0.9930 - val_acc: 0.6670\n",
            "Epoch 6/20\n",
            "50000/50000 [==============================] - 8s 166us/step - loss: 0.6360 - acc: 0.7783 - val_loss: 0.9926 - val_acc: 0.6745\n",
            "Epoch 7/20\n",
            "50000/50000 [==============================] - 8s 166us/step - loss: 0.5577 - acc: 0.8079 - val_loss: 1.0173 - val_acc: 0.6706\n",
            "Epoch 8/20\n",
            "50000/50000 [==============================] - 8s 164us/step - loss: 0.4790 - acc: 0.8357 - val_loss: 1.1133 - val_acc: 0.6622\n",
            "Epoch 9/20\n",
            "50000/50000 [==============================] - 8s 165us/step - loss: 0.4112 - acc: 0.8591 - val_loss: 1.1784 - val_acc: 0.6577\n",
            "Epoch 10/20\n",
            "50000/50000 [==============================] - 8s 165us/step - loss: 0.3450 - acc: 0.8827 - val_loss: 1.3218 - val_acc: 0.6471\n",
            "Epoch 11/20\n",
            "50000/50000 [==============================] - 8s 165us/step - loss: 0.2827 - acc: 0.9049 - val_loss: 1.4059 - val_acc: 0.6523\n",
            "Epoch 12/20\n",
            "50000/50000 [==============================] - 8s 165us/step - loss: 0.2340 - acc: 0.9210 - val_loss: 1.5094 - val_acc: 0.6470\n",
            "Epoch 13/20\n",
            "50000/50000 [==============================] - 8s 165us/step - loss: 0.1837 - acc: 0.9408 - val_loss: 1.6898 - val_acc: 0.6420\n",
            "Epoch 14/20\n",
            "50000/50000 [==============================] - 8s 165us/step - loss: 0.1450 - acc: 0.9538 - val_loss: 1.7952 - val_acc: 0.6403\n",
            "Epoch 15/20\n",
            "50000/50000 [==============================] - 8s 165us/step - loss: 0.1272 - acc: 0.9591 - val_loss: 1.9030 - val_acc: 0.6391\n",
            "Epoch 16/20\n",
            "50000/50000 [==============================] - 8s 166us/step - loss: 0.1106 - acc: 0.9637 - val_loss: 2.0462 - val_acc: 0.6489\n",
            "Epoch 17/20\n",
            "50000/50000 [==============================] - 8s 166us/step - loss: 0.0966 - acc: 0.9696 - val_loss: 2.2110 - val_acc: 0.6388\n",
            "Epoch 18/20\n",
            "50000/50000 [==============================] - 8s 167us/step - loss: 0.0772 - acc: 0.9751 - val_loss: 2.2690 - val_acc: 0.6317\n",
            "Epoch 19/20\n",
            "50000/50000 [==============================] - 8s 168us/step - loss: 0.0657 - acc: 0.9794 - val_loss: 2.4020 - val_acc: 0.6316\n",
            "Epoch 20/20\n",
            "50000/50000 [==============================] - 8s 165us/step - loss: 0.0712 - acc: 0.9759 - val_loss: 2.5010 - val_acc: 0.6329\n",
            "> 63.290\n"
          ],
          "name": "stdout"
        }
      ]
    }
  ]
}