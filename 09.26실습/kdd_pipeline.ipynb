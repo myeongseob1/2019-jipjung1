{
 "cells": [
  {
   "cell_type": "code",
   "execution_count": 4,
   "metadata": {},
   "outputs": [
    {
     "name": "stdout",
     "output_type": "stream",
     "text": [
      "(494021, 41)\n",
      "(494021, 1)\n",
      "(370515, 38)\n",
      "(123506, 38)\n",
      "(370515, 11)\n",
      "[[0 289 16 ... 0.06 0.0 1.0]\n",
      " [0 285 24 ... 0.09 0.0 1.0]\n",
      " [0 511 511 ... 1.0 1.0 0.0]\n",
      " ...\n",
      " [0 511 511 ... 1.0 1.0 0.0]\n",
      " [0 511 511 ... 1.0 1.0 0.0]\n",
      " [0 511 511 ... 1.0 1.0 0.0]]\n",
      "(370515, 15)\n",
      "[[-3.50460719e+03 -8.77786622e+02 -3.06728836e+01 ...  2.57587566e-03\n",
      "  -2.13071151e-04  1.99650640e-02]\n",
      " [-3.50460719e+03 -8.77787537e+02 -3.09904670e+01 ...  1.18793689e-03\n",
      "   5.99134312e-03  2.44307514e-02]\n",
      " [-2.47260768e+03 -8.77955786e+02 -6.42387145e+01 ...  4.25427108e-04\n",
      "   4.84036446e-04  1.25027929e-03]\n",
      " ...\n",
      " [-2.47260768e+03 -8.77955786e+02 -6.42387145e+01 ...  4.25427108e-04\n",
      "   4.84036447e-04  1.25027929e-03]\n",
      " [-2.47260768e+03 -8.77955786e+02 -6.42387145e+01 ...  4.25427108e-04\n",
      "   4.84036447e-04  1.25027929e-03]\n",
      " [-2.47260768e+03 -8.77955786e+02 -6.42387145e+01 ...  4.25427108e-04\n",
      "   4.84036447e-04  1.25027929e-03]]\n"
     ]
    }
   ],
   "source": [
    "from sklearn.ensemble import ExtraTreesClassifier\n",
    "from sklearn.feature_selection import SelectFromModel\n",
    "from sklearn.decomposition import PCA\n",
    "from sklearn import datasets\n",
    "from sklearn.model_selection import train_test_split\n",
    "import pandas as pd\n",
    "\n",
    "rseed = 93\n",
    "random_state = 2\n",
    "data_kdd99 = datasets.fetch_kddcup99(subset = None, percent10 = True, random_state = random_state)\n",
    "\n",
    "X = pd.DataFrame(data_kdd99.data)\n",
    "Y = pd.DataFrame(data_kdd99.target)\n",
    "print(X.shape)\n",
    "print(Y.shape)\n",
    "\n",
    "X_trans = X.drop(X.columns[[1,2,3]],axis = 1)\n",
    "Y_trans = Y[0].tolist()\n",
    "X_train, X_test, y_train, y_test = train_test_split(X_trans,Y_trans,test_size=0.25,random_state = rseed)\n",
    "print(X_train.shape)\n",
    "print(X_test.shape)\n",
    "\n",
    "clf = ExtraTreesClassifier(n_estimators=50)\n",
    "clf.fit(X_train,y_train)\n",
    "model = SelectFromModel(clf,prefit=True)\n",
    "X_Tree = model.transform(X_train)\n",
    "X_PCA =PCA(n_components = 15).fit_transform(X_train)\n",
    "\n",
    "print(X_Tree.shape)\n",
    "print(X_Tree)\n",
    "print(X_PCA.shape)\n",
    "print(X_PCA)"
   ]
  },
  {
   "cell_type": "code",
   "execution_count": null,
   "metadata": {},
   "outputs": [],
   "source": []
  }
 ],
 "metadata": {
  "kernelspec": {
   "display_name": "Python 3",
   "language": "python",
   "name": "python3"
  },
  "language_info": {
   "codemirror_mode": {
    "name": "ipython",
    "version": 3
   },
   "file_extension": ".py",
   "mimetype": "text/x-python",
   "name": "python",
   "nbconvert_exporter": "python",
   "pygments_lexer": "ipython3",
   "version": "3.7.3"
  }
 },
 "nbformat": 4,
 "nbformat_minor": 2
}
