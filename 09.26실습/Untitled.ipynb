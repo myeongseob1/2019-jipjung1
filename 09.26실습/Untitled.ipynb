{
 "cells": [
  {
   "cell_type": "code",
   "execution_count": null,
   "metadata": {},
   "outputs": [
    {
     "name": "stderr",
     "output_type": "stream",
     "text": [
      "C:\\Users\\kwakms123\\Anaconda3\\lib\\site-packages\\sklearn\\model_selection\\_split.py:657: Warning: The least populated class in y has only 1 members, which is too few. The minimum number of members in any class cannot be less than n_splits=3.\n",
      "  % (min_groups, self.n_splits)), Warning)\n"
     ]
    }
   ],
   "source": [
    "import time \n",
    "import pandas as pd \n",
    "import numpy as np \n",
    "from sklearn.metrics import confusion_matrix \n",
    "import itertools \n",
    "import matplotlib.pyplot as plt\n",
    "from sklearn import svm,datasets\n",
    "from sklearn.preprocessing import MinMaxScaler\n",
    "from sklearn.preprocessing import StandardScaler\n",
    "from sklearn.model_selection import GridSearchCV\n",
    "from sklearn.model_selection import train_test_split\n",
    "from sklearn.pipeline import Pipeline\n",
    "from sklearn.decomposition import PCA\n",
    "from sklearn.ensemble import ExtraTreesClassifier\n",
    "from sklearn.feature_selection import SelectFromModel\n",
    "rseed = 93 \n",
    "random_state = 2 \n",
    "data_kdd99 = datasets.fetch_kddcup99 (subset=None, percent10=True, random_state=random_state)\n",
    "\n",
    "X = pd.DataFrame(data_kdd99.data) \n",
    "Y = pd.DataFrame(data_kdd99.target) \n",
    "\n",
    "X_train, X_test, y_train, y_test = train_test_split(X, Y, test_size=0.2, random_state=rseed)\n",
    "\n",
    "X_train_trans = X_train.drop(X_train.columns[[1, 2, 3]], axis=1)\n",
    "X_test_trans = X_test.drop(X_test.columns[[1, 2, 3]], axis=1)\n",
    "\n",
    "train_label = y_train[0].tolist()\n",
    "test_label = y_test[0].tolist() \n",
    "parameters = [\n",
    "    {\n",
    "        'scaler':[MinMaxScaler(feature_range=(0,1))],\n",
    "        'scaler__feature_range':[(0,1),(-1,1)],\n",
    "    },\n",
    "    {\n",
    "        'scaler':[StandardScaler()],\n",
    "    },\n",
    "    {\n",
    "\n",
    "        'reduce_dim':[SelectFromModel(ExtraTreesClassifier(n_estimators=50))],\n",
    "        'reduce_dim__estimator__n_estimators':[20,30],\n",
    "        \n",
    "    },\n",
    "    {\n",
    "\n",
    "        'reduce_dim':[PCA(n_components=20)],\n",
    "        'reduce_dim__n_components':[3,7,10],\n",
    "        \n",
    "    },\n",
    "    {\n",
    "        'classify':[svm.SVC(kernel='linear')],\n",
    "        'classify__gamma':[0.1,0.01]\n",
    "    },\n",
    "]\n",
    "\n",
    "#model1 = svm.SVC(kernel='linear', C=1, verbose=True, random_state = rseed, decision_function_shape=\"ovo\").fit(X_train_trans, train_label)\n",
    "#model2= tree.DecisionTreeClassifier().fit(X_train_trans, train_label)\n",
    "pipeline = Pipeline([\n",
    "    ('scaler',StandardScaler()),\n",
    "    ('reduce_dim',PCA(n_components =1)),\n",
    "    ('classify',svm.SVC(kernel='linear',gamma=0.1))\n",
    "])\n",
    "\n",
    "grid = GridSearchCV(pipeline, param_grid=parameters, cv=3, n_jobs=1,iid='True')\n",
    "grid.fit(X_train_trans,train_label)\n",
    " \n",
    "print(\"Best estimator found:\")\n",
    "print(grid.best_estimator_)\n",
    "\n",
    "print(\"Best score:\")\n",
    "print(grid.best_score_)\n",
    "\n",
    "print(\"Best parameters found:\")\n",
    "print(grid.best_params_)\n"
   ]
  },
  {
   "cell_type": "code",
   "execution_count": null,
   "metadata": {},
   "outputs": [],
   "source": []
  }
 ],
 "metadata": {
  "kernelspec": {
   "display_name": "Python 3",
   "language": "python",
   "name": "python3"
  },
  "language_info": {
   "codemirror_mode": {
    "name": "ipython",
    "version": 3
   },
   "file_extension": ".py",
   "mimetype": "text/x-python",
   "name": "python",
   "nbconvert_exporter": "python",
   "pygments_lexer": "ipython3",
   "version": "3.7.3"
  }
 },
 "nbformat": 4,
 "nbformat_minor": 2
}
