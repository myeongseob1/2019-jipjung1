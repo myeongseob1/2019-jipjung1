{
 "cells": [
  {
   "cell_type": "code",
   "execution_count": 8,
   "metadata": {},
   "outputs": [],
   "source": [
    "from sklearn import svm,datasets\n",
    "from sklearn.preprocessing import MinMaxScaler\n",
    "from sklearn.preprocessing import StandardScaler\n",
    "from sklearn.model_selection import GridSearchCV\n",
    "from sklearn.model_selection import train_test_split\n",
    "from sklearn.pipeline import Pipeline\n",
    "from sklearn.decomposition import PCA\n",
    "\n",
    "rseed = 5\n",
    "iris = datasets.load_iris()\n",
    "\n",
    "X = iris.data\n",
    "Y = iris.target\n",
    "X_train, X_test, y_train, y_test = train_test_split(X,Y,test_size = 0.25, random_state = rseed)\n",
    "#scalestep = MinMaxScaler(feature_range = (-1,1))\n",
    "#svmstep = svm.SVC(kernel = 'linear',C=1,verbose = True, random_state = rseed, decision_function_shape = \"ovo\")\n",
    "#steps = [('scaler',scalestep),('SVM',svmstep)]\n",
    "#parameters = {'SVM_C':[1,2,3,4,5],'SVM_gamma':[0.1,0.01]}\n",
    "\n",
    "parameters = [\n",
    "    {\n",
    "        'scaler':[MinMaxScaler(feature_range=(0,1))],\n",
    "        'scaler__feature_range':[(0,1),(-1,1)],\n",
    "    },\n",
    "    {\n",
    "        'scaler':[StandardScaler()],\n",
    "    },\n",
    "    {\n",
    "        'reduce_dim':[PCA()],\n",
    "        'reduce_dim__n_components':[2,3,4],\n",
    "        \n",
    "    },\n",
    "    {\n",
    "        'classify':[svm.SVC(kernel='linear')],\n",
    "        'classify__gamma':[0.1,0.01]\n",
    "    },\n",
    "]"
   ]
  },
  {
   "cell_type": "code",
   "execution_count": 9,
   "metadata": {},
   "outputs": [
    {
     "name": "stdout",
     "output_type": "stream",
     "text": [
      "Best estimator found:\n",
      "Pipeline(memory=None,\n",
      "         steps=[('scaler', MinMaxScaler(copy=True, feature_range=(-1, 1))),\n",
      "                ('reduce_dim',\n",
      "                 PCA(copy=True, iterated_power='auto', n_components=None,\n",
      "                     random_state=None, svd_solver='auto', tol=0.0,\n",
      "                     whiten=False)),\n",
      "                ('classify',\n",
      "                 SVC(C=1.0, cache_size=200, class_weight=None, coef0=0.0,\n",
      "                     decision_function_shape='ovr', degree=3, gamma=0.1,\n",
      "                     kernel='linear', max_iter=-1, probability=False,\n",
      "                     random_state=None, shrinking=True, tol=0.001,\n",
      "                     verbose=False))],\n",
      "         verbose=False)\n",
      "Best score:\n",
      "0.9821428571428571\n",
      "Best parameters found:\n",
      "{'scaler': MinMaxScaler(copy=True, feature_range=(-1, 1)), 'scaler__feature_range': (-1, 1)}\n",
      "score = 0.95\n",
      "{'scaler': MinMaxScaler(copy=True, feature_range=(-1, 1)), 'scaler__feature_range': (-1, 1)}\n",
      "0.9821428571428571\n"
     ]
    },
    {
     "data": {
      "text/plain": [
       "GridSearchCV(cv=3, error_score='raise-deprecating',\n",
       "             estimator=Pipeline(memory=None,\n",
       "                                steps=[('scaler',\n",
       "                                        StandardScaler(copy=True,\n",
       "                                                       with_mean=True,\n",
       "                                                       with_std=True)),\n",
       "                                       ('reduce_dim',\n",
       "                                        PCA(copy=True, iterated_power='auto',\n",
       "                                            n_components=None,\n",
       "                                            random_state=None,\n",
       "                                            svd_solver='auto', tol=0.0,\n",
       "                                            whiten=False)),\n",
       "                                       ('classify',\n",
       "                                        SVC(C=1.0, cache_size=200,\n",
       "                                            class_weight=None, coef0=0.0,\n",
       "                                            deci...\n",
       "                          'reduce_dim__n_components': [2, 3, 4]},\n",
       "                         {'classify': [SVC(C=1.0, cache_size=200,\n",
       "                                           class_weight=None, coef0=0.0,\n",
       "                                           decision_function_shape='ovr',\n",
       "                                           degree=3, gamma=0.01,\n",
       "                                           kernel='linear', max_iter=-1,\n",
       "                                           probability=False, random_state=None,\n",
       "                                           shrinking=True, tol=0.001,\n",
       "                                           verbose=False)],\n",
       "                          'classify__gamma': [0.1, 0.01]}],\n",
       "             pre_dispatch='2*n_jobs', refit=True, return_train_score=False,\n",
       "             scoring=None, verbose=0)"
      ]
     },
     "execution_count": 9,
     "metadata": {},
     "output_type": "execute_result"
    }
   ],
   "source": [
    "pipeline = Pipeline([\n",
    "    ('scaler',StandardScaler()),\n",
    "    ('reduce_dim',PCA()),\n",
    "    ('classify',svm.SVC(kernel='linear',gamma=0.1))\n",
    "])\n",
    "\n",
    "grid = GridSearchCV(pipeline, param_grid=parameters, cv=3, n_jobs=1,iid='True')\n",
    "grid.fit(X_train,y_train)\n",
    " \n",
    "print(\"Best estimator found:\")\n",
    "print(grid.best_estimator_)\n",
    "\n",
    "print(\"Best score:\")\n",
    "print(grid.best_score_)\n",
    "\n",
    "print(\"Best parameters found:\")\n",
    "print(grid.best_params_)\n",
    "\n",
    "print(\"score = %3.2f\" %(grid.score(X_test,y_test)))\n",
    "print(grid.best_params_)\n",
    "print(grid.best_score_)\n",
    "\n",
    "grid.fit(X_train,y_train)\n"
   ]
  },
  {
   "cell_type": "code",
   "execution_count": null,
   "metadata": {},
   "outputs": [],
   "source": []
  }
 ],
 "metadata": {
  "kernelspec": {
   "display_name": "Python 3",
   "language": "python",
   "name": "python3"
  },
  "language_info": {
   "codemirror_mode": {
    "name": "ipython",
    "version": 3
   },
   "file_extension": ".py",
   "mimetype": "text/x-python",
   "name": "python",
   "nbconvert_exporter": "python",
   "pygments_lexer": "ipython3",
   "version": "3.7.3"
  }
 },
 "nbformat": 4,
 "nbformat_minor": 2
}
