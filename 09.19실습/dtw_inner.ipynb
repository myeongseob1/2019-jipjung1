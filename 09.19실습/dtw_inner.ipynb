{
 "cells": [
  {
   "cell_type": "code",
   "execution_count": 3,
   "metadata": {},
   "outputs": [],
   "source": [
    "# -*- coding: utf-8 -*-\n",
    "\n",
    "from math import *\n",
    "import numpy as np\n",
    "import sys\n",
    "\n",
    "\n",
    "def DTW(A, B, window=sys.maxsize, d=lambda x, y: abs(x - y)):\n",
    "    # 비용 행렬 초기화\n",
    "    A, B = np.array(A), np.array(B)\n",
    "    M, N = len(A), len(B)\n",
    "    cost = sys.maxsize * np.ones((M, N))\n",
    "\n",
    "    # 첫번째 로우,컬럼 채우기\n",
    "    cost[0, 0] = d(A[0], B[0])\n",
    "    for i in range(1, M):\n",
    "        cost[i, 0] = cost[i - 1, 0] + d(A[i], B[0])\n",
    "\n",
    "    for j in range(1, N):\n",
    "        cost[0, j] = cost[0, j - 1] + d(A[0], B[j])\n",
    "    # 나머지 행렬 채우기\n",
    "    for i in range(1, M):\n",
    "        for j in range(max(1, i - window), min(N, i + window)):\n",
    "            choices = cost[i - 1, j - 1], cost[i, j - 1], cost[i - 1, j]\n",
    "            cost[i, j] = min(choices) + d(A[i], B[j])\n",
    "\n",
    "# 최적 경로 구하기\n",
    "    n, m = N - 1, M - 1\n",
    "    path = []\n",
    "\n",
    "    while (m, n) != (0, 0):\n",
    "        path.append((m, n))\n",
    "        m, n = min((m - 1, n), (m, n - 1), (m - 1, n - 1), key=lambda x: cost[x[0], x[1]])\n",
    "\n",
    "    path.append((0, 0))\n",
    "    return cost[-1, -1], path\n",
    "\n",
    "\n",
    "def main():\n",
    "    A = np.array([1,2,3,4,2,3])\n",
    "    B = np.array([7,8,5,9,11,9])\n",
    "\n",
    "    cost, path = DTW(A, B, window = 6)\n",
    "    print('Total Distance is ', cost)\n",
    "    import matplotlib.pyplot as plt\n",
    "    offset = 5\n",
    "    plt.xlim([-1, max(len(A), len(B)) + 1])\n",
    "    plt.plot(A)\n",
    "    plt.plot(B + offset)\n",
    "    for (x1, x2) in path:\n",
    "        plt.plot([x1, x2], [A[x1], B[x2] + offset])\n",
    "    plt.show()\n",
    "\n",
    "    if __name__ == '__main__':\n",
    "        main()\n"
   ]
  },
  {
   "cell_type": "code",
   "execution_count": null,
   "metadata": {},
   "outputs": [],
   "source": []
  }
 ],
 "metadata": {
  "kernelspec": {
   "display_name": "Python 3",
   "language": "python",
   "name": "python3"
  },
  "language_info": {
   "codemirror_mode": {
    "name": "ipython",
    "version": 3
   },
   "file_extension": ".py",
   "mimetype": "text/x-python",
   "name": "python",
   "nbconvert_exporter": "python",
   "pygments_lexer": "ipython3",
   "version": "3.7.3"
  }
 },
 "nbformat": 4,
 "nbformat_minor": 2
}
